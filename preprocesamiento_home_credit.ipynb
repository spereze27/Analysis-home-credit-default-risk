{
 "cells": [
  {
   "cell_type": "markdown",
   "id": "bb3372d4",
   "metadata": {},
   "source": [
    "# Configuración inicial y librerías\n",
    "\n",
    "Se importan las librerías necesarias para llevar a cabo el preprocesamiento del dataset. Este conjunto de datos requiere transformación de fechas, codificación de variables categóricas, creación de nuevas características y manejo de valores faltantes. A continuación, se explican brevemente las librerías utilizadas:\n",
    "\n",
    "- `polars`: manipulación de datos estructurados, se emplea polars en lugar de pandas para optimizar el uso de recursos computacionales.\n",
    "- `numpy`: operaciones numéricas y matemáticas.\n",
    "- `scipy.stats`: operaciones estadísticas como la moda.\n",
    "- `sklearn.preprocessing.LabelEncoder`: codificación de variables categóricas.\n",
    "- `matplotlib.pyplot`: visualización básica (opcional).\n",
    "- `warnings`: suprime advertencias innecesarias en la ejecución.\n",
    "- `gc` (garbage collector): optimiza el uso de memoria.\n",
    "\n"
   ]
  },
  {
   "cell_type": "code",
   "execution_count": 75,
   "id": "ae4876b5",
   "metadata": {},
   "outputs": [],
   "source": [
    "# Librerías\n",
    "import polars as pd\n",
    "import numpy as np\n",
    "import scipy.stats\n",
    "from sklearn.preprocessing import LabelEncoder\n",
    "import matplotlib.pyplot as plt\n",
    "import warnings\n",
    "import gc\n",
    "\n",
    "# Ignorar advertencias\n",
    "\n",
    "warnings.filterwarnings(\"ignore\")\n",
    "\n",
    "# Activar garbage collector para habilitar la recoleccion de basura, esto mejora el rendimiento en ambientes \n",
    "# que tienen un uso intensivo de memoria como lo es el caso del manejo de los datasets de la actividad desarrollada\n",
    "\n",
    "gc.enable()\n"
   ]
  },
  {
   "cell_type": "markdown",
   "id": "8ada1f87",
   "metadata": {},
   "source": [
    "# Pre-preprocesamiento de datos"
   ]
  },
  {
   "cell_type": "markdown",
   "id": "9ad695ea",
   "metadata": {},
   "source": [
    "### Convertir unidades (dias)\n",
    "La función `convertir_dias(data, columnas, divisor=12, redondear=True, reemplazar=False)` se utiliza para transformar columnas que contienen valores de tiempo expresados en días negativos, como por ejemplo DAYS_BIRTH o DAYS_EMPLOYED se pasa de dias negativos a meses.\n",
    "\n",
    "El parámetro columnas especifica la lista de variables que se desean transformar. El parámetro `divisor` determina en qué unidad se hará la conversión (en este caso 12, para convertirlo a meses).\n",
    "\n",
    "Dentro del bucle, se invierte el signo del valor (porque los días vienen negativos en el dataset), se divide por el `divisor`. Luego, se eliminan los valores negativos resultantes, ya que estos suelen ser errores de codificación y se reemplazan por None."
   ]
  },
  {
   "cell_type": "code",
   "execution_count": 93,
   "id": "aca4039f",
   "metadata": {},
   "outputs": [],
   "source": [
    "def convertir_dias(data, columnas, divisor=12, redondear=True, reemplazar=False):\n",
    "    columnas_existentes = [col for col in columnas if col in data.columns]\n",
    "    nuevas_columnas = []\n",
    "\n",
    "    for col in columnas_existentes:\n",
    "        expr = -(pd.col(col) / divisor)\n",
    "\n",
    "        if redondear:\n",
    "            expr = expr.round()\n",
    "\n",
    "        expr = expr.map_elements(lambda x: None if x < 0 else x).alias(col if reemplazar else f\"CONVERTIDO_{col}\")\n",
    "        nuevas_columnas.append(expr)\n",
    "\n",
    "    return data.with_columns(nuevas_columnas)\n"
   ]
  },
  {
   "cell_type": "markdown",
   "id": "78504170",
   "metadata": {},
   "source": [
    "### Crear variables logarítmicas\n",
    "La función `crear_logaritmos(data, columnas, reemplazar=False)` se utiliza para aplicar una transformación logarítmica a las variables numéricas del dataset. Este tipo de transformación es común cuando se trabaja con variables como ingresos, montos de crédito, etc. Esto se debe a que las transformaciones logarítmicas pueden ayudar a corregir la asimetría de variables y mejorar la linealidad en modelos estadísticos."
   ]
  },
  {
   "cell_type": "code",
   "execution_count": 77,
   "id": "ecbdc3a2",
   "metadata": {},
   "outputs": [],
   "source": [
    "def crear_logaritmos(data, columnas, replace=False):\n",
    "    nuevas_columnas = []\n",
    "    for col in columnas:\n",
    "        log_col = pd.col(col).abs().add(1).log().alias(col if replace else f\"LOG_{col}\")\n",
    "        nuevas_columnas.append(log_col)\n",
    "    \n",
    "    return data.with_columns(nuevas_columnas)\n"
   ]
  },
  {
   "cell_type": "markdown",
   "id": "2487f7de",
   "metadata": {},
   "source": [
    "### Codificar variables categóricas\n",
    "Mucha de la información que se tiene del dataset son string o cadenas de texto que el modelo no va a poder interpretar por si solo, se crea la funcion `tratar_categoricas(data)` para que a cada columna que tenga valores de tipo objeto se le reemplace cada categoria por un valor entero unico.\n",
    "Por ejemplo en la columna `GENRE` se remplazaria ``M`` por 0 y ``F`` por 1"
   ]
  },
  {
   "cell_type": "code",
   "execution_count": 97,
   "id": "b21b6b97",
   "metadata": {},
   "outputs": [],
   "source": [
    "\n",
    "#Codifica todas las variables categóricas del DataFrame usando codificación por etiquetas.\n",
    "#Cada categoría única se reemplaza por un número entero único.\n",
    "def tratar_categoricas(data):\n",
    "    columnas_obj = [col for col in data.columns if data[col].dtype == pd.String]\n",
    "    nuevas_columnas = []\n",
    "\n",
    "    for col in columnas_obj:\n",
    "        # Encodear con \"categorical().to_physical()\" convierte a entero único por categoría\n",
    "        expr = pd.col(col).cast(pd.Categorical).to_physical().alias(col)\n",
    "        nuevas_columnas.append(expr)\n",
    "\n",
    "    return data.with_columns(nuevas_columnas)\n"
   ]
  },
  {
   "cell_type": "markdown",
   "id": "b938343c",
   "metadata": {},
   "source": [
    "### Agregar datos numéricos y categóricos por cliente\n",
    "La funcion `agregar_por_cliente(data, id_col, etiqueta=None)` se crea con el objetivo de separar las columnas en 2 tipos:\n",
    "* Categoricas\n",
    "* Numericas\n",
    "\n",
    "Esto con el objetivo de poder extraer los estadisticos relevantes de estos 2 tipos de datos."
   ]
  },
  {
   "cell_type": "code",
   "execution_count": null,
   "id": "541b2ad8",
   "metadata": {},
   "outputs": [],
   "source": [
    "\n",
    "def agregar_por_cliente(data, id_col, etiqueta=None):\n",
    "    # Se separan las columnas en categóricas y numéricas. Las categóricas son aquellas con tipo de dato object, y el resto son numéricas.\n",
    "    categoricas = [col for col in data.columns if data[col].dtype == \"object\"]\n",
    "    datos_numericos = data.drop(columns=categoricas)\n",
    "    datos_categoricos = data[[id_col] + categoricas]\n",
    "\n",
    "    print(f\"- Variables categóricas: {len(categoricas)}\")\n",
    "    print(f\"- Variables numéricas: {datos_numericos.shape[1] - 1}\")\n",
    "\n",
    "    # Para las columnas numéricas, se agrupan por el ID del consumidor y se calculan varias estadísticas:\n",
    "    # la media (mean), la desviación estándar (std), el valor mínimo (min), y el valor máximo (max)\n",
    "    if datos_numericos.shape[1] > 1:\n",
    "        numericos_agg = datos_numericos.groupby(id_col).agg([\"mean\", \"std\", \"min\", \"max\"])\n",
    "        numericos_agg.columns = [f\"{col[0]}_{col[1]}\" for col in numericos_agg.columns]\n",
    "        numericos_agg = numericos_agg.sort_index()\n",
    "    else:\n",
    "        numericos_agg = pd.DataFrame()\n",
    "\n",
    "    # Para las columnas categóricas, también se agrupan por el ID del consumidor, y se calculan dos estadísticas:\n",
    "    # la moda y el número de valores únicos.\n",
    "    if categoricas:\n",
    "        categoricos_agg = datos_categoricos.groupby(id_col).agg({\n",
    "            col: [lambda x: scipy.stats.mode(x)[0][0], lambda x: x.nunique()]\n",
    "            for col in categoricas\n",
    "        })\n",
    "        categoricos_agg.columns = [f\"{col[0]}_{col[1]}\" for col in categoricos_agg.columns]\n",
    "        categoricos_agg = categoricos_agg.sort_index()\n",
    "    else:\n",
    "        categoricos_agg = pd.DataFrame()\n",
    "\n",
    "    # Después de calcular los estadísticos más relevantes se unen en un solo DataFrame\n",
    "    if not numericos_agg.empty and not categoricos_agg.empty:\n",
    "        resultado = pd.concat([numericos_agg, categoricos_agg], axis=1)\n",
    "    elif not numericos_agg.empty:\n",
    "        resultado = numericos_agg\n",
    "    else:\n",
    "        resultado = categoricos_agg\n",
    "\n",
    "    if etiqueta:\n",
    "        resultado.columns = [etiqueta + \"_\" + col for col in resultado.columns]\n",
    "\n",
    "    return resultado\n"
   ]
  },
  {
   "cell_type": "markdown",
   "id": "faab35bd",
   "metadata": {},
   "source": [
    "# Preprocesamiento de los datos"
   ]
  },
  {
   "cell_type": "markdown",
   "id": "748dd303",
   "metadata": {},
   "source": [
    "### Contar valores nulos\n",
    "La función `contar_nulos(data)` permite encontrar valores faltantes en un conjunto de datos. Su objetivo es identificar qué columnas tienen datos incompletos, cuántos valores faltan y qué porcentaje representan respecto al total de registros.\n",
    "\n",
    "Primero, calcula la cantidad total de valores nulos en cada columna utilizando `data.isnull().sum()`, que cuenta los `True` para cada celda nula. Luego, ordena estas cantidades de forma descendente para priorizar las columnas más problemáticas.\n",
    "\n",
    "A continuación, calcula el porcentaje de nulos dividiendo cada total de nulos por el número total de filas del `DataFrame`, y multiplica por 100 para expresarlo en porcentaje. También se ordenan los resultados de mayor a menor.\n",
    "\n",
    "Ambas series (total y porcentaje) se combinan en un solo `DataFrame` usando `pd.concat.\n",
    "\n",
    "Por último, se filtran las columnas con valores nulos, devolviendo únicamente aquellas que presentan al menos un valor faltante. Esto permite enfocarse exclusivamente en las variables que requieren algún tipo de tratamiento durante la limpieza de datos."
   ]
  },
  {
   "cell_type": "code",
   "execution_count": 80,
   "id": "1afb1fb0",
   "metadata": {},
   "outputs": [],
   "source": [
    "\n",
    "def contar_nulos(data):\n",
    "    total = data.isnull().sum().sort_values(ascending=False)\n",
    "    porcentaje = (data.isnull().sum() / len(data) * 100).sort_values(ascending=False)\n",
    "    tabla = pd.concat([total, porcentaje], axis=1, keys=[\"Total de nulos\", \"Porcentaje\"])\n",
    "    return tabla[tabla[\"Total de nulos\"] > 0]"
   ]
  },
  {
   "cell_type": "markdown",
   "id": "375ef6dd",
   "metadata": {},
   "source": [
    "### Crear indicadores flags de nulos\n",
    "``crear_flags_nulos(data, columnas=None)`` tiene como propósito generar nuevas variables binarias (0 o 1) que indiquen si un valor estaba originalmente ausente. Esto con el fin de que la ausencia de valores se vuelva una informacion relevante para el modelo.\n",
    "Por ejemplo, si los clientes con ingresos faltantes tienden a incumplir, el simple hecho de no declarar el ingreso se vuelve información sumamente relevante.\n",
    "\n"
   ]
  },
  {
   "cell_type": "code",
   "execution_count": 81,
   "id": "4415d233",
   "metadata": {},
   "outputs": [],
   "source": [
    "\n",
    "def crear_flags_nulos(data, columnas=None):\n",
    "    if columnas is None:\n",
    "        columnas = data.columns\n",
    "    for col in columnas:\n",
    "        if data[col].isnull().any():\n",
    "            data[\"ES_NULO_\" + str(col)] = data[col].isnull().astype(int)\n",
    "    return data\n"
   ]
  },
  {
   "cell_type": "markdown",
   "id": "eb02df23",
   "metadata": {},
   "source": [
    "### Calcular tasas de aprobación y rechazo\n",
    "Despues de realizar una busqueda sobre modelos de riesgo crediticio se encontro que los modelos de crédito deben de considerar el historial de comportamiento previo como uno de los predictores más potentes.\n",
    "\n",
    "Esto se puede encontrar en Basel Committee on Banking Supervision — Credit Risk Modelling: Current Practices and Applications (https://www.bis.org/publ/bcbs49.htm) donde se menciona expresamente el uso de variables como el comportamiento pasado del cliente como feature principal o en Anderson, R. (2007). The Credit Scoring Toolkit: Theory and Practice for Retail Credit Risk Management (mirar capitulo 9) donde se menciona que variables como número de rechazos previos, historial de solicitudes y frecuencia de aceptación son claves para desarrollar un analisis completo.\n",
    "\n",
    "Se procede a construir la funcion `calcular_ratio_aprobacion(data, lags=[1, 2, 5])` que tiene como objetivo calcular, para cada cliente ``(SK_ID_CURR)``, el porcentaje de solicitudes aprobadas y rechazadas en sus últimas t solicitudes de crédito, donde t toma los valores definidos en la lista lags (para este caso elegi los valores: [1, 2, 5]).\n",
    "\n",
    "se crearan las columnas \"RATIO_APROBADO_{t}\" donde RATIO_APROBADO_1 es si la ultima solicitud fue aprobada y RATIO_APROBADO_2 es cuántas de las 2 más recientes fueron rechazadas, en promedio. Exactamente lo mismo para el ratio de rechazo"
   ]
  },
  {
   "cell_type": "code",
   "execution_count": 82,
   "id": "a31d7167",
   "metadata": {},
   "outputs": [],
   "source": [
    "\n",
    "def calcular_ratio_aprobacion(data, lags=[1, 2, 5]):\n",
    "    #Se extraen solo las columnas necesarias\n",
    "    df = data[[\"SK_ID_CURR\", \"SK_ID_PREV\", \"DAYS_DECISION\", \"NAME_CONTRACT_STATUS\"]].copy()\n",
    "    #La columna DAYS_DECISION representa la antigüedad de la solicitud (en días negativos). \n",
    "    #Se invierte el signo para que los valores más recientes queden al final, y se ordena por cliente y fecha.\n",
    "    df[\"DAYS_DECISION\"] = -df[\"DAYS_DECISION\"]\n",
    "    df = df.sort_values([\"SK_ID_CURR\", \"DAYS_DECISION\"])\n",
    "    #Se aplican dummies sobre la columna NAME_CONTRACT_STATUS para generar columnas binarias como: 1 aprobado o 0 rechazado\n",
    "    df = pd.get_dummies(df)\n",
    "\n",
    "    for t in lags:\n",
    "        tmp = df.groupby(\"SK_ID_CURR\")[\"NAME_CONTRACT_STATUS_Approved\"].head(t).groupby(\"SK_ID_CURR\").mean().reset_index()\n",
    "        tmp.columns = [\"SK_ID_CURR\", f\"RATIO_APROBADO_{t}\"]\n",
    "        data = data.merge(tmp, on=\"SK_ID_CURR\", how=\"left\")\n",
    "\n",
    "        tmp = df.groupby(\"SK_ID_CURR\")[\"NAME_CONTRACT_STATUS_Refused\"].head(t).groupby(\"SK_ID_CURR\").mean().reset_index()\n",
    "        tmp.columns = [\"SK_ID_CURR\", f\"RATIO_RECHAZADO_{t}\"]\n",
    "        data = data.merge(tmp, on=\"SK_ID_CURR\", how=\"left\")\n",
    "\n",
    "    return data\n"
   ]
  },
  {
   "cell_type": "markdown",
   "id": "b500d9e7",
   "metadata": {},
   "source": [
    "### Determinar correlacion entre las variables\n",
    "Una tecnica comun en el preprocesamiento de datos es la reduccion de caracteristicas, esta me dice que si tengo 2 vaiables que tienen una correlacion fuerte (si mi correlacion es igual a 1 entonces son directamente proporcionales y si es -1 son inversamente proporcionales) entonces es redundante tenerlas y puede llegar a dificultar la deteccion de un patron ya que lo que me dice una variable se puede interpretar de la otra. Con esto en mente se procede a calcular la correlacion entre las variables y a eliminar las que estan fuertemente correlacionadas entre si."
   ]
  },
  {
   "cell_type": "code",
   "execution_count": 83,
   "id": "df3566a4",
   "metadata": {},
   "outputs": [],
   "source": [
    "def eliminar_variables_correlacionadas(df, umbral=0.9):\n",
    "    \"\"\"\n",
    "    Elimina variables del DataFrame que tienen una correlación fuerte es decir mayor a 0.9\n",
    "    \"\"\"\n",
    "    corr_matrix = df.corr(numeric_only=True).abs()\n",
    "    upper = corr_matrix.where(np.triu(np.ones(corr_matrix.shape), k=1).astype(bool))\n",
    "    \n",
    "    # Encuentra columnas con correlación alta\n",
    "    columnas_a_eliminar = [column for column in upper.columns if any(upper[column] > umbral)]\n",
    "    \n",
    "    print(f\"Se eliminarán {len(columnas_a_eliminar)} columnas por alta correlación.\")\n",
    "    \n",
    "    df_sin_correlacion = df.drop(columns=columnas_a_eliminar)\n",
    "    return df_sin_correlacion, columnas_a_eliminar\n"
   ]
  },
  {
   "cell_type": "markdown",
   "id": "0ff14c42",
   "metadata": {},
   "source": [
    "### Detección y manejo de valores atipicos\n",
    "Se debe determinar los valores que se salen del comportamiento normal de la variable, para ello se procedera a ver los valores que son superiores al bigote superior (el bigote superior se calcula como el cuartil 3 + 1.5 * el rango intercuartilico, el rango intercuatilico es la diferencia entre el cuartil 3 y el cuartil 1), y el bigote inferior se calcula como Q1-1.5 * el rango intercuartilico.\n",
    "\n",
    "Si los valores atipicos representan una gran parte de la poblacion entonces la muestra no tiene una comportamiento normal, para esto se determina si los valores atipicos son menores al 7% (este valor no esta respaldado en la literatura, es una asuncion propia) y en caso de que sea menores al 7% se pueden eliminar sin alterar significativamente el resultado"
   ]
  },
  {
   "cell_type": "code",
   "execution_count": 84,
   "id": "4bb7cbd5",
   "metadata": {},
   "outputs": [],
   "source": [
    "def eliminar_outliers(df, umbral=0.07):\n",
    "    \"\"\"\n",
    "    Elimina los outliers por variable numérica si representan menos del 7% del total de muestras.\n",
    "    \"\"\"\n",
    "    df_limpio = df.copy()\n",
    "    columnas_numericas = df.select_dtypes(include=[np.number]).columns\n",
    "    total_filas = len(df)\n",
    "    outliers_eliminados = []\n",
    "\n",
    "    for col in columnas_numericas:\n",
    "        q1 = df[col].quantile(0.25)\n",
    "        q3 = df[col].quantile(0.75)\n",
    "        iqr = q3 - q1\n",
    "        limite_inferior = q1 - 1.5 * iqr\n",
    "        limite_superior = q3 + 1.5 * iqr\n",
    "\n",
    "        outliers = df[(df[col] < limite_inferior) | (df[col] > limite_superior)]\n",
    "        porcentaje_outliers = len(outliers) / total_filas\n",
    "\n",
    "        if porcentaje_outliers < umbral:\n",
    "            df_limpio = df_limpio[(df_limpio[col] >= limite_inferior) & (df_limpio[col] <= limite_superior)]\n",
    "            outliers_eliminados.append(col)\n",
    "    \n",
    "    print(f\"Outliers eliminados en {len(outliers_eliminados)} columnas: {outliers_eliminados}\")\n",
    "    return df_limpio\n"
   ]
  },
  {
   "cell_type": "markdown",
   "id": "59a68e95",
   "metadata": {},
   "source": [
    "### Importar la data"
   ]
  },
  {
   "cell_type": "code",
   "execution_count": 85,
   "id": "6f42ac23",
   "metadata": {},
   "outputs": [],
   "source": [
    "train = pd.read_csv(\"files/application_train.csv\")\n",
    "test  = pd.read_csv(\"files/application_test.csv\")\n",
    "previous_application  = pd.read_csv(\"files/previous_application.csv\")\n",
    "installments  = pd.read_csv(\"files/installments_payments.csv\")"
   ]
  },
  {
   "cell_type": "code",
   "execution_count": 86,
   "id": "21e704a5",
   "metadata": {},
   "outputs": [
    {
     "data": {
      "text/html": [
       "<div><style>\n",
       ".dataframe > thead > tr,\n",
       ".dataframe > tbody > tr {\n",
       "  text-align: right;\n",
       "  white-space: pre-wrap;\n",
       "}\n",
       "</style>\n",
       "<small>shape: (307_511, 2)</small><table border=\"1\" class=\"dataframe\"><thead><tr><th>SK_ID_CURR</th><th>TARGET</th></tr><tr><td>i64</td><td>i64</td></tr></thead><tbody><tr><td>100002</td><td>1</td></tr><tr><td>100003</td><td>0</td></tr><tr><td>100004</td><td>0</td></tr><tr><td>100006</td><td>0</td></tr><tr><td>100007</td><td>0</td></tr><tr><td>&hellip;</td><td>&hellip;</td></tr><tr><td>456251</td><td>0</td></tr><tr><td>456252</td><td>0</td></tr><tr><td>456253</td><td>0</td></tr><tr><td>456254</td><td>1</td></tr><tr><td>456255</td><td>0</td></tr></tbody></table></div>"
      ],
      "text/plain": [
       "shape: (307_511, 2)\n",
       "┌────────────┬────────┐\n",
       "│ SK_ID_CURR ┆ TARGET │\n",
       "│ ---        ┆ ---    │\n",
       "│ i64        ┆ i64    │\n",
       "╞════════════╪════════╡\n",
       "│ 100002     ┆ 1      │\n",
       "│ 100003     ┆ 0      │\n",
       "│ 100004     ┆ 0      │\n",
       "│ 100006     ┆ 0      │\n",
       "│ 100007     ┆ 0      │\n",
       "│ …          ┆ …      │\n",
       "│ 456251     ┆ 0      │\n",
       "│ 456252     ┆ 0      │\n",
       "│ 456253     ┆ 0      │\n",
       "│ 456254     ┆ 1      │\n",
       "│ 456255     ┆ 0      │\n",
       "└────────────┴────────┘"
      ]
     },
     "execution_count": 86,
     "metadata": {},
     "output_type": "execute_result"
    }
   ],
   "source": [
    "# Extraer la variable objetivo\n",
    "y = train.select([\"SK_ID_CURR\", \"TARGET\"])\n",
    "train = train.drop(\"TARGET\")\n",
    "y\n"
   ]
  },
  {
   "cell_type": "code",
   "execution_count": 87,
   "id": "1659bb7e",
   "metadata": {},
   "outputs": [
    {
     "data": {
      "text/html": [
       "<div><style>\n",
       ".dataframe > thead > tr,\n",
       ".dataframe > tbody > tr {\n",
       "  text-align: right;\n",
       "  white-space: pre-wrap;\n",
       "}\n",
       "</style>\n",
       "<small>shape: (356_255, 121)</small><table border=\"1\" class=\"dataframe\"><thead><tr><th>SK_ID_CURR</th><th>NAME_CONTRACT_TYPE</th><th>CODE_GENDER</th><th>FLAG_OWN_CAR</th><th>FLAG_OWN_REALTY</th><th>CNT_CHILDREN</th><th>AMT_INCOME_TOTAL</th><th>AMT_CREDIT</th><th>AMT_ANNUITY</th><th>AMT_GOODS_PRICE</th><th>NAME_TYPE_SUITE</th><th>NAME_INCOME_TYPE</th><th>NAME_EDUCATION_TYPE</th><th>NAME_FAMILY_STATUS</th><th>NAME_HOUSING_TYPE</th><th>REGION_POPULATION_RELATIVE</th><th>DAYS_BIRTH</th><th>DAYS_EMPLOYED</th><th>DAYS_REGISTRATION</th><th>DAYS_ID_PUBLISH</th><th>OWN_CAR_AGE</th><th>FLAG_MOBIL</th><th>FLAG_EMP_PHONE</th><th>FLAG_WORK_PHONE</th><th>FLAG_CONT_MOBILE</th><th>FLAG_PHONE</th><th>FLAG_EMAIL</th><th>OCCUPATION_TYPE</th><th>CNT_FAM_MEMBERS</th><th>REGION_RATING_CLIENT</th><th>REGION_RATING_CLIENT_W_CITY</th><th>WEEKDAY_APPR_PROCESS_START</th><th>HOUR_APPR_PROCESS_START</th><th>REG_REGION_NOT_LIVE_REGION</th><th>REG_REGION_NOT_WORK_REGION</th><th>LIVE_REGION_NOT_WORK_REGION</th><th>REG_CITY_NOT_LIVE_CITY</th><th>&hellip;</th><th>NONLIVINGAREA_MEDI</th><th>FONDKAPREMONT_MODE</th><th>HOUSETYPE_MODE</th><th>TOTALAREA_MODE</th><th>WALLSMATERIAL_MODE</th><th>EMERGENCYSTATE_MODE</th><th>OBS_30_CNT_SOCIAL_CIRCLE</th><th>DEF_30_CNT_SOCIAL_CIRCLE</th><th>OBS_60_CNT_SOCIAL_CIRCLE</th><th>DEF_60_CNT_SOCIAL_CIRCLE</th><th>DAYS_LAST_PHONE_CHANGE</th><th>FLAG_DOCUMENT_2</th><th>FLAG_DOCUMENT_3</th><th>FLAG_DOCUMENT_4</th><th>FLAG_DOCUMENT_5</th><th>FLAG_DOCUMENT_6</th><th>FLAG_DOCUMENT_7</th><th>FLAG_DOCUMENT_8</th><th>FLAG_DOCUMENT_9</th><th>FLAG_DOCUMENT_10</th><th>FLAG_DOCUMENT_11</th><th>FLAG_DOCUMENT_12</th><th>FLAG_DOCUMENT_13</th><th>FLAG_DOCUMENT_14</th><th>FLAG_DOCUMENT_15</th><th>FLAG_DOCUMENT_16</th><th>FLAG_DOCUMENT_17</th><th>FLAG_DOCUMENT_18</th><th>FLAG_DOCUMENT_19</th><th>FLAG_DOCUMENT_20</th><th>FLAG_DOCUMENT_21</th><th>AMT_REQ_CREDIT_BUREAU_HOUR</th><th>AMT_REQ_CREDIT_BUREAU_DAY</th><th>AMT_REQ_CREDIT_BUREAU_WEEK</th><th>AMT_REQ_CREDIT_BUREAU_MON</th><th>AMT_REQ_CREDIT_BUREAU_QRT</th><th>AMT_REQ_CREDIT_BUREAU_YEAR</th></tr><tr><td>i64</td><td>str</td><td>str</td><td>str</td><td>str</td><td>i64</td><td>f64</td><td>f64</td><td>f64</td><td>f64</td><td>str</td><td>str</td><td>str</td><td>str</td><td>str</td><td>f64</td><td>i64</td><td>i64</td><td>f64</td><td>i64</td><td>f64</td><td>i64</td><td>i64</td><td>i64</td><td>i64</td><td>i64</td><td>i64</td><td>str</td><td>f64</td><td>i64</td><td>i64</td><td>str</td><td>i64</td><td>i64</td><td>i64</td><td>i64</td><td>i64</td><td>&hellip;</td><td>f64</td><td>str</td><td>str</td><td>f64</td><td>str</td><td>str</td><td>f64</td><td>f64</td><td>f64</td><td>f64</td><td>f64</td><td>i64</td><td>i64</td><td>i64</td><td>i64</td><td>i64</td><td>i64</td><td>i64</td><td>i64</td><td>i64</td><td>i64</td><td>i64</td><td>i64</td><td>i64</td><td>i64</td><td>i64</td><td>i64</td><td>i64</td><td>i64</td><td>i64</td><td>i64</td><td>f64</td><td>f64</td><td>f64</td><td>f64</td><td>f64</td><td>f64</td></tr></thead><tbody><tr><td>100002</td><td>&quot;Cash loans&quot;</td><td>&quot;M&quot;</td><td>&quot;N&quot;</td><td>&quot;Y&quot;</td><td>0</td><td>202500.0</td><td>406597.5</td><td>24700.5</td><td>351000.0</td><td>&quot;Unaccompanied&quot;</td><td>&quot;Working&quot;</td><td>&quot;Secondary / secondary special&quot;</td><td>&quot;Single / not married&quot;</td><td>&quot;House / apartment&quot;</td><td>0.018801</td><td>-9461</td><td>-637</td><td>-3648.0</td><td>-2120</td><td>null</td><td>1</td><td>1</td><td>0</td><td>1</td><td>1</td><td>0</td><td>&quot;Laborers&quot;</td><td>1.0</td><td>2</td><td>2</td><td>&quot;WEDNESDAY&quot;</td><td>10</td><td>0</td><td>0</td><td>0</td><td>0</td><td>&hellip;</td><td>0.0</td><td>&quot;reg oper account&quot;</td><td>&quot;block of flats&quot;</td><td>0.0149</td><td>&quot;Stone, brick&quot;</td><td>&quot;No&quot;</td><td>2.0</td><td>2.0</td><td>2.0</td><td>2.0</td><td>-1134.0</td><td>0</td><td>1</td><td>0</td><td>0</td><td>0</td><td>0</td><td>0</td><td>0</td><td>0</td><td>0</td><td>0</td><td>0</td><td>0</td><td>0</td><td>0</td><td>0</td><td>0</td><td>0</td><td>0</td><td>0</td><td>0.0</td><td>0.0</td><td>0.0</td><td>0.0</td><td>0.0</td><td>1.0</td></tr><tr><td>100003</td><td>&quot;Cash loans&quot;</td><td>&quot;F&quot;</td><td>&quot;N&quot;</td><td>&quot;N&quot;</td><td>0</td><td>270000.0</td><td>1293502.5</td><td>35698.5</td><td>1.1295e6</td><td>&quot;Family&quot;</td><td>&quot;State servant&quot;</td><td>&quot;Higher education&quot;</td><td>&quot;Married&quot;</td><td>&quot;House / apartment&quot;</td><td>0.003541</td><td>-16765</td><td>-1188</td><td>-1186.0</td><td>-291</td><td>null</td><td>1</td><td>1</td><td>0</td><td>1</td><td>1</td><td>0</td><td>&quot;Core staff&quot;</td><td>2.0</td><td>1</td><td>1</td><td>&quot;MONDAY&quot;</td><td>11</td><td>0</td><td>0</td><td>0</td><td>0</td><td>&hellip;</td><td>0.01</td><td>&quot;reg oper account&quot;</td><td>&quot;block of flats&quot;</td><td>0.0714</td><td>&quot;Block&quot;</td><td>&quot;No&quot;</td><td>1.0</td><td>0.0</td><td>1.0</td><td>0.0</td><td>-828.0</td><td>0</td><td>1</td><td>0</td><td>0</td><td>0</td><td>0</td><td>0</td><td>0</td><td>0</td><td>0</td><td>0</td><td>0</td><td>0</td><td>0</td><td>0</td><td>0</td><td>0</td><td>0</td><td>0</td><td>0</td><td>0.0</td><td>0.0</td><td>0.0</td><td>0.0</td><td>0.0</td><td>0.0</td></tr><tr><td>100004</td><td>&quot;Revolving loans&quot;</td><td>&quot;M&quot;</td><td>&quot;Y&quot;</td><td>&quot;Y&quot;</td><td>0</td><td>67500.0</td><td>135000.0</td><td>6750.0</td><td>135000.0</td><td>&quot;Unaccompanied&quot;</td><td>&quot;Working&quot;</td><td>&quot;Secondary / secondary special&quot;</td><td>&quot;Single / not married&quot;</td><td>&quot;House / apartment&quot;</td><td>0.010032</td><td>-19046</td><td>-225</td><td>-4260.0</td><td>-2531</td><td>26.0</td><td>1</td><td>1</td><td>1</td><td>1</td><td>1</td><td>0</td><td>&quot;Laborers&quot;</td><td>1.0</td><td>2</td><td>2</td><td>&quot;MONDAY&quot;</td><td>9</td><td>0</td><td>0</td><td>0</td><td>0</td><td>&hellip;</td><td>null</td><td>null</td><td>null</td><td>null</td><td>null</td><td>null</td><td>0.0</td><td>0.0</td><td>0.0</td><td>0.0</td><td>-815.0</td><td>0</td><td>0</td><td>0</td><td>0</td><td>0</td><td>0</td><td>0</td><td>0</td><td>0</td><td>0</td><td>0</td><td>0</td><td>0</td><td>0</td><td>0</td><td>0</td><td>0</td><td>0</td><td>0</td><td>0</td><td>0.0</td><td>0.0</td><td>0.0</td><td>0.0</td><td>0.0</td><td>0.0</td></tr><tr><td>100006</td><td>&quot;Cash loans&quot;</td><td>&quot;F&quot;</td><td>&quot;N&quot;</td><td>&quot;Y&quot;</td><td>0</td><td>135000.0</td><td>312682.5</td><td>29686.5</td><td>297000.0</td><td>&quot;Unaccompanied&quot;</td><td>&quot;Working&quot;</td><td>&quot;Secondary / secondary special&quot;</td><td>&quot;Civil marriage&quot;</td><td>&quot;House / apartment&quot;</td><td>0.008019</td><td>-19005</td><td>-3039</td><td>-9833.0</td><td>-2437</td><td>null</td><td>1</td><td>1</td><td>0</td><td>1</td><td>0</td><td>0</td><td>&quot;Laborers&quot;</td><td>2.0</td><td>2</td><td>2</td><td>&quot;WEDNESDAY&quot;</td><td>17</td><td>0</td><td>0</td><td>0</td><td>0</td><td>&hellip;</td><td>null</td><td>null</td><td>null</td><td>null</td><td>null</td><td>null</td><td>2.0</td><td>0.0</td><td>2.0</td><td>0.0</td><td>-617.0</td><td>0</td><td>1</td><td>0</td><td>0</td><td>0</td><td>0</td><td>0</td><td>0</td><td>0</td><td>0</td><td>0</td><td>0</td><td>0</td><td>0</td><td>0</td><td>0</td><td>0</td><td>0</td><td>0</td><td>0</td><td>null</td><td>null</td><td>null</td><td>null</td><td>null</td><td>null</td></tr><tr><td>100007</td><td>&quot;Cash loans&quot;</td><td>&quot;M&quot;</td><td>&quot;N&quot;</td><td>&quot;Y&quot;</td><td>0</td><td>121500.0</td><td>513000.0</td><td>21865.5</td><td>513000.0</td><td>&quot;Unaccompanied&quot;</td><td>&quot;Working&quot;</td><td>&quot;Secondary / secondary special&quot;</td><td>&quot;Single / not married&quot;</td><td>&quot;House / apartment&quot;</td><td>0.028663</td><td>-19932</td><td>-3038</td><td>-4311.0</td><td>-3458</td><td>null</td><td>1</td><td>1</td><td>0</td><td>1</td><td>0</td><td>0</td><td>&quot;Core staff&quot;</td><td>1.0</td><td>2</td><td>2</td><td>&quot;THURSDAY&quot;</td><td>11</td><td>0</td><td>0</td><td>0</td><td>0</td><td>&hellip;</td><td>null</td><td>null</td><td>null</td><td>null</td><td>null</td><td>null</td><td>0.0</td><td>0.0</td><td>0.0</td><td>0.0</td><td>-1106.0</td><td>0</td><td>0</td><td>0</td><td>0</td><td>0</td><td>0</td><td>1</td><td>0</td><td>0</td><td>0</td><td>0</td><td>0</td><td>0</td><td>0</td><td>0</td><td>0</td><td>0</td><td>0</td><td>0</td><td>0</td><td>0.0</td><td>0.0</td><td>0.0</td><td>0.0</td><td>0.0</td><td>0.0</td></tr><tr><td>&hellip;</td><td>&hellip;</td><td>&hellip;</td><td>&hellip;</td><td>&hellip;</td><td>&hellip;</td><td>&hellip;</td><td>&hellip;</td><td>&hellip;</td><td>&hellip;</td><td>&hellip;</td><td>&hellip;</td><td>&hellip;</td><td>&hellip;</td><td>&hellip;</td><td>&hellip;</td><td>&hellip;</td><td>&hellip;</td><td>&hellip;</td><td>&hellip;</td><td>&hellip;</td><td>&hellip;</td><td>&hellip;</td><td>&hellip;</td><td>&hellip;</td><td>&hellip;</td><td>&hellip;</td><td>&hellip;</td><td>&hellip;</td><td>&hellip;</td><td>&hellip;</td><td>&hellip;</td><td>&hellip;</td><td>&hellip;</td><td>&hellip;</td><td>&hellip;</td><td>&hellip;</td><td>&hellip;</td><td>&hellip;</td><td>&hellip;</td><td>&hellip;</td><td>&hellip;</td><td>&hellip;</td><td>&hellip;</td><td>&hellip;</td><td>&hellip;</td><td>&hellip;</td><td>&hellip;</td><td>&hellip;</td><td>&hellip;</td><td>&hellip;</td><td>&hellip;</td><td>&hellip;</td><td>&hellip;</td><td>&hellip;</td><td>&hellip;</td><td>&hellip;</td><td>&hellip;</td><td>&hellip;</td><td>&hellip;</td><td>&hellip;</td><td>&hellip;</td><td>&hellip;</td><td>&hellip;</td><td>&hellip;</td><td>&hellip;</td><td>&hellip;</td><td>&hellip;</td><td>&hellip;</td><td>&hellip;</td><td>&hellip;</td><td>&hellip;</td><td>&hellip;</td><td>&hellip;</td><td>&hellip;</td></tr><tr><td>456221</td><td>&quot;Cash loans&quot;</td><td>&quot;F&quot;</td><td>&quot;N&quot;</td><td>&quot;Y&quot;</td><td>0</td><td>121500.0</td><td>412560.0</td><td>17473.5</td><td>270000.0</td><td>&quot;Unaccompanied&quot;</td><td>&quot;Working&quot;</td><td>&quot;Secondary / secondary special&quot;</td><td>&quot;Widow&quot;</td><td>&quot;House / apartment&quot;</td><td>0.002042</td><td>-19970</td><td>-5169</td><td>-9094.0</td><td>-3399</td><td>null</td><td>1</td><td>1</td><td>1</td><td>1</td><td>1</td><td>0</td><td>null</td><td>1.0</td><td>3</td><td>3</td><td>&quot;WEDNESDAY&quot;</td><td>16</td><td>0</td><td>0</td><td>0</td><td>0</td><td>&hellip;</td><td>null</td><td>null</td><td>null</td><td>null</td><td>null</td><td>null</td><td>1.0</td><td>0.0</td><td>1.0</td><td>0.0</td><td>-684.0</td><td>0</td><td>0</td><td>0</td><td>1</td><td>0</td><td>0</td><td>0</td><td>0</td><td>0</td><td>0</td><td>0</td><td>0</td><td>0</td><td>0</td><td>0</td><td>0</td><td>0</td><td>0</td><td>0</td><td>0</td><td>0.0</td><td>0.0</td><td>0.0</td><td>0.0</td><td>0.0</td><td>1.0</td></tr><tr><td>456222</td><td>&quot;Cash loans&quot;</td><td>&quot;F&quot;</td><td>&quot;N&quot;</td><td>&quot;N&quot;</td><td>2</td><td>157500.0</td><td>622413.0</td><td>31909.5</td><td>495000.0</td><td>&quot;Unaccompanied&quot;</td><td>&quot;Commercial associate&quot;</td><td>&quot;Secondary / secondary special&quot;</td><td>&quot;Married&quot;</td><td>&quot;House / apartment&quot;</td><td>0.035792</td><td>-11186</td><td>-1149</td><td>-3015.0</td><td>-3003</td><td>null</td><td>1</td><td>1</td><td>0</td><td>1</td><td>0</td><td>0</td><td>&quot;Sales staff&quot;</td><td>4.0</td><td>2</td><td>2</td><td>&quot;MONDAY&quot;</td><td>11</td><td>0</td><td>0</td><td>0</td><td>0</td><td>&hellip;</td><td>null</td><td>null</td><td>null</td><td>null</td><td>null</td><td>null</td><td>2.0</td><td>0.0</td><td>2.0</td><td>0.0</td><td>0.0</td><td>0</td><td>1</td><td>0</td><td>0</td><td>0</td><td>0</td><td>0</td><td>0</td><td>0</td><td>0</td><td>0</td><td>0</td><td>0</td><td>0</td><td>0</td><td>0</td><td>0</td><td>0</td><td>0</td><td>0</td><td>null</td><td>null</td><td>null</td><td>null</td><td>null</td><td>null</td></tr><tr><td>456223</td><td>&quot;Cash loans&quot;</td><td>&quot;F&quot;</td><td>&quot;Y&quot;</td><td>&quot;Y&quot;</td><td>1</td><td>202500.0</td><td>315000.0</td><td>33205.5</td><td>315000.0</td><td>&quot;Unaccompanied&quot;</td><td>&quot;Commercial associate&quot;</td><td>&quot;Secondary / secondary special&quot;</td><td>&quot;Married&quot;</td><td>&quot;House / apartment&quot;</td><td>0.026392</td><td>-15922</td><td>-3037</td><td>-2681.0</td><td>-1504</td><td>4.0</td><td>1</td><td>1</td><td>0</td><td>1</td><td>1</td><td>0</td><td>null</td><td>3.0</td><td>2</td><td>2</td><td>&quot;WEDNESDAY&quot;</td><td>12</td><td>0</td><td>0</td><td>0</td><td>0</td><td>&hellip;</td><td>0.0554</td><td>null</td><td>&quot;block of flats&quot;</td><td>0.1663</td><td>&quot;Stone, brick&quot;</td><td>&quot;No&quot;</td><td>0.0</td><td>0.0</td><td>0.0</td><td>0.0</td><td>-838.0</td><td>0</td><td>1</td><td>0</td><td>0</td><td>0</td><td>0</td><td>0</td><td>0</td><td>0</td><td>0</td><td>0</td><td>0</td><td>0</td><td>0</td><td>0</td><td>0</td><td>0</td><td>0</td><td>0</td><td>0</td><td>0.0</td><td>0.0</td><td>0.0</td><td>0.0</td><td>3.0</td><td>1.0</td></tr><tr><td>456224</td><td>&quot;Cash loans&quot;</td><td>&quot;M&quot;</td><td>&quot;N&quot;</td><td>&quot;N&quot;</td><td>0</td><td>225000.0</td><td>450000.0</td><td>25128.0</td><td>450000.0</td><td>&quot;Family&quot;</td><td>&quot;Commercial associate&quot;</td><td>&quot;Higher education&quot;</td><td>&quot;Married&quot;</td><td>&quot;House / apartment&quot;</td><td>0.01885</td><td>-13968</td><td>-2731</td><td>-1461.0</td><td>-1364</td><td>null</td><td>1</td><td>1</td><td>1</td><td>1</td><td>1</td><td>0</td><td>&quot;Managers&quot;</td><td>2.0</td><td>2</td><td>2</td><td>&quot;MONDAY&quot;</td><td>10</td><td>0</td><td>1</td><td>1</td><td>0</td><td>&hellip;</td><td>0.1521</td><td>null</td><td>&quot;block of flats&quot;</td><td>0.1974</td><td>&quot;Panel&quot;</td><td>&quot;No&quot;</td><td>0.0</td><td>0.0</td><td>0.0</td><td>0.0</td><td>-2308.0</td><td>0</td><td>1</td><td>0</td><td>0</td><td>0</td><td>0</td><td>0</td><td>0</td><td>0</td><td>0</td><td>0</td><td>0</td><td>0</td><td>0</td><td>0</td><td>0</td><td>0</td><td>0</td><td>0</td><td>0</td><td>0.0</td><td>0.0</td><td>0.0</td><td>0.0</td><td>0.0</td><td>2.0</td></tr><tr><td>456250</td><td>&quot;Cash loans&quot;</td><td>&quot;F&quot;</td><td>&quot;Y&quot;</td><td>&quot;N&quot;</td><td>0</td><td>135000.0</td><td>312768.0</td><td>24709.5</td><td>270000.0</td><td>&quot;Unaccompanied&quot;</td><td>&quot;Working&quot;</td><td>&quot;Secondary / secondary special&quot;</td><td>&quot;Married&quot;</td><td>&quot;House / apartment&quot;</td><td>0.006629</td><td>-13962</td><td>-633</td><td>-1072.0</td><td>-4220</td><td>22.0</td><td>1</td><td>1</td><td>1</td><td>1</td><td>0</td><td>0</td><td>&quot;Core staff&quot;</td><td>2.0</td><td>2</td><td>2</td><td>&quot;TUESDAY&quot;</td><td>14</td><td>0</td><td>0</td><td>0</td><td>0</td><td>&hellip;</td><td>null</td><td>null</td><td>null</td><td>null</td><td>null</td><td>null</td><td>0.0</td><td>0.0</td><td>0.0</td><td>0.0</td><td>-327.0</td><td>0</td><td>1</td><td>0</td><td>0</td><td>0</td><td>0</td><td>0</td><td>0</td><td>0</td><td>0</td><td>0</td><td>0</td><td>0</td><td>0</td><td>0</td><td>0</td><td>0</td><td>0</td><td>0</td><td>0</td><td>0.0</td><td>0.0</td><td>0.0</td><td>0.0</td><td>1.0</td><td>4.0</td></tr></tbody></table></div>"
      ],
      "text/plain": [
       "shape: (356_255, 121)\n",
       "┌───────────┬───────────┬───────────┬───────────┬───┬───────────┬───────────┬───────────┬──────────┐\n",
       "│ SK_ID_CUR ┆ NAME_CONT ┆ CODE_GEND ┆ FLAG_OWN_ ┆ … ┆ AMT_REQ_C ┆ AMT_REQ_C ┆ AMT_REQ_C ┆ AMT_REQ_ │\n",
       "│ R         ┆ RACT_TYPE ┆ ER        ┆ CAR       ┆   ┆ REDIT_BUR ┆ REDIT_BUR ┆ REDIT_BUR ┆ CREDIT_B │\n",
       "│ ---       ┆ ---       ┆ ---       ┆ ---       ┆   ┆ EAU_WEEK  ┆ EAU_MON   ┆ EAU_QRT   ┆ UREAU_YE │\n",
       "│ i64       ┆ str       ┆ str       ┆ str       ┆   ┆ ---       ┆ ---       ┆ ---       ┆ AR       │\n",
       "│           ┆           ┆           ┆           ┆   ┆ f64       ┆ f64       ┆ f64       ┆ ---      │\n",
       "│           ┆           ┆           ┆           ┆   ┆           ┆           ┆           ┆ f64      │\n",
       "╞═══════════╪═══════════╪═══════════╪═══════════╪═══╪═══════════╪═══════════╪═══════════╪══════════╡\n",
       "│ 100002    ┆ Cash      ┆ M         ┆ N         ┆ … ┆ 0.0       ┆ 0.0       ┆ 0.0       ┆ 1.0      │\n",
       "│           ┆ loans     ┆           ┆           ┆   ┆           ┆           ┆           ┆          │\n",
       "│ 100003    ┆ Cash      ┆ F         ┆ N         ┆ … ┆ 0.0       ┆ 0.0       ┆ 0.0       ┆ 0.0      │\n",
       "│           ┆ loans     ┆           ┆           ┆   ┆           ┆           ┆           ┆          │\n",
       "│ 100004    ┆ Revolving ┆ M         ┆ Y         ┆ … ┆ 0.0       ┆ 0.0       ┆ 0.0       ┆ 0.0      │\n",
       "│           ┆ loans     ┆           ┆           ┆   ┆           ┆           ┆           ┆          │\n",
       "│ 100006    ┆ Cash      ┆ F         ┆ N         ┆ … ┆ null      ┆ null      ┆ null      ┆ null     │\n",
       "│           ┆ loans     ┆           ┆           ┆   ┆           ┆           ┆           ┆          │\n",
       "│ 100007    ┆ Cash      ┆ M         ┆ N         ┆ … ┆ 0.0       ┆ 0.0       ┆ 0.0       ┆ 0.0      │\n",
       "│           ┆ loans     ┆           ┆           ┆   ┆           ┆           ┆           ┆          │\n",
       "│ …         ┆ …         ┆ …         ┆ …         ┆ … ┆ …         ┆ …         ┆ …         ┆ …        │\n",
       "│ 456221    ┆ Cash      ┆ F         ┆ N         ┆ … ┆ 0.0       ┆ 0.0       ┆ 0.0       ┆ 1.0      │\n",
       "│           ┆ loans     ┆           ┆           ┆   ┆           ┆           ┆           ┆          │\n",
       "│ 456222    ┆ Cash      ┆ F         ┆ N         ┆ … ┆ null      ┆ null      ┆ null      ┆ null     │\n",
       "│           ┆ loans     ┆           ┆           ┆   ┆           ┆           ┆           ┆          │\n",
       "│ 456223    ┆ Cash      ┆ F         ┆ Y         ┆ … ┆ 0.0       ┆ 0.0       ┆ 3.0       ┆ 1.0      │\n",
       "│           ┆ loans     ┆           ┆           ┆   ┆           ┆           ┆           ┆          │\n",
       "│ 456224    ┆ Cash      ┆ M         ┆ N         ┆ … ┆ 0.0       ┆ 0.0       ┆ 0.0       ┆ 2.0      │\n",
       "│           ┆ loans     ┆           ┆           ┆   ┆           ┆           ┆           ┆          │\n",
       "│ 456250    ┆ Cash      ┆ F         ┆ Y         ┆ … ┆ 0.0       ┆ 0.0       ┆ 1.0       ┆ 4.0      │\n",
       "│           ┆ loans     ┆           ┆           ┆   ┆           ┆           ┆           ┆          │\n",
       "└───────────┴───────────┴───────────┴───────────┴───┴───────────┴───────────┴───────────┴──────────┘"
      ]
     },
     "execution_count": 87,
     "metadata": {},
     "output_type": "execute_result"
    }
   ],
   "source": [
    "df_combinado = pd.concat([train, test])\n",
    "del train, test\n",
    "df_combinado"
   ]
  },
  {
   "cell_type": "markdown",
   "id": "e5a8e7da",
   "metadata": {},
   "source": [
    "Se eliminan las columnas que desde el analisis preliminar se determina que no brindan informacion relevante para el analisis.\n",
    "Si se desea mas detalle de por que se descartaron leer el archivo README.md"
   ]
  },
  {
   "cell_type": "code",
   "execution_count": 88,
   "id": "30b9b65b",
   "metadata": {},
   "outputs": [],
   "source": [
    "columnas_no_relevantes=['APARTMENTS_MEDI', 'BASEMENTAREA_MEDI', 'COMMONAREA_MEDI', 'ELEVATORS_MEDI', 'ENTRANCES_MEDI', \n",
    "         'FLOORSMAX_MEDI', 'FLOORSMIN_MEDI', 'LANDAREA_MEDI', 'LIVINGAPARTMENTS_MEDI', 'LIVINGAREA_MEDI',\n",
    "         'NONLIVINGAPARTMENTS_MEDI', 'NONLIVINGAREA_MEDI','YEARS_BEGINEXPLUATATION_MEDI', 'YEARS_BUILD_MEDI',\n",
    "         'APARTMENTS_MODE', 'BASEMENTAREA_MODE', 'COMMONAREA_MODE','ELEVATORS_MODE', 'ENTRANCES_MODE', \n",
    "         'FLOORSMAX_MODE', 'FLOORSMIN_MODE', 'LANDAREA_MODE', 'LIVINGAPARTMENTS_MODE', 'LIVINGAREA_MODE', \n",
    "         'NONLIVINGAPARTMENTS_MODE', 'NONLIVINGAREA_MODE', 'TOTALAREA_MODE',  'YEARS_BEGINEXPLUATATION_MODE','NAME_TYPE_SUITE', \n",
    "         'DAYS_REGISTRATION', 'DAYS_ID_PUBLISH', 'WEEKDAY_APPR_PROCESS_START', 'HOUR_APPR_PROCESS_START', \n",
    "         'FLAG_PHONE', 'FLAG_EMP_PHONE']\n",
    "\n",
    "df_combinado = df_combinado.drop(columnas_no_relevantes)"
   ]
  },
  {
   "cell_type": "markdown",
   "id": "e636d8d4",
   "metadata": {},
   "source": [
    "### Columnas que pueden resstructurarse de una mejor manera\n",
    "Hay varios campos que no me dan información significativa de manera individual pero se puede generar un nuevo campo calculado que resuma varias columnas, por ejemplo son 20 columnas que dan informacion sobre si el cliente entrego un documento X, seria mas practico resumir esas 20 columnas en una sola para evaluar cuantos de esos documentos se entregaron con respecto al total de documentos. Ademas podria sacar otra columna como el ingreso por hogar al dividir los ingresos que tiene una persona por el numero de personas que viven en su hogar \"CNT_FAM_MEMBERS\" y de esta forma elimino \"CNT_FAM_MEMBERS\"."
   ]
  },
  {
   "cell_type": "code",
   "execution_count": 89,
   "id": "703fc115",
   "metadata": {},
   "outputs": [],
   "source": [
    "df_combinado = df_combinado.with_columns([\n",
    "    (pd.col(\"AMT_INCOME_TOTAL\") / pd.col(\"CNT_FAM_MEMBERS\")).alias(\"INGRESO_POR_PERSONA\")\n",
    "]).drop([\"CNT_FAM_MEMBERS\"])\n"
   ]
  },
  {
   "cell_type": "code",
   "execution_count": 90,
   "id": "0785b72c",
   "metadata": {},
   "outputs": [],
   "source": [
    "docs = [\n",
    "    \"FLAG_DOCUMENT_2\",  \"FLAG_DOCUMENT_3\",  \"FLAG_DOCUMENT_4\",  \"FLAG_DOCUMENT_5\",  \"FLAG_DOCUMENT_6\",\n",
    "    \"FLAG_DOCUMENT_7\",  \"FLAG_DOCUMENT_8\",  \"FLAG_DOCUMENT_9\",  \"FLAG_DOCUMENT_10\", \"FLAG_DOCUMENT_11\",\n",
    "    \"FLAG_DOCUMENT_12\", \"FLAG_DOCUMENT_13\", \"FLAG_DOCUMENT_14\", \"FLAG_DOCUMENT_15\", \"FLAG_DOCUMENT_16\",\n",
    "    \"FLAG_DOCUMENT_17\", \"FLAG_DOCUMENT_18\", \"FLAG_DOCUMENT_19\", \"FLAG_DOCUMENT_20\", \"FLAG_DOCUMENT_21\"\n",
    "]\n",
    "#Se suman las columnas que tienen un 1 (es decir que entregaron este documento) y se divide por el numero maximo de documentos a entregar (20)\n",
    "#Con esto se pueden resumir 20 columnas en una sola\n",
    "\n",
    "df_combinado = df_combinado.with_columns(\n",
    "    (sum([pd.col(col) for col in docs]) / 20).alias(\"PORCENTAJE_DOCUMENTACION_ENTREGADA\")\n",
    ").drop(docs)\n"
   ]
  },
  {
   "cell_type": "code",
   "execution_count": 91,
   "id": "cd6ba87a",
   "metadata": {},
   "outputs": [
    {
     "data": {
      "text/plain": [
       "0.2"
      ]
     },
     "execution_count": 91,
     "metadata": {},
     "output_type": "execute_result"
    }
   ],
   "source": [
    "df_combinado[\"PORCENTAJE_DOCUMENTACION_ENTREGADA\"].max()"
   ]
  },
  {
   "cell_type": "code",
   "execution_count": 95,
   "id": "29e2f6f0",
   "metadata": {},
   "outputs": [],
   "source": [
    "# convertir a escala logaritmica\n",
    "var_logaritmicas = [\"AMT_CREDIT\", \"AMT_GOODS_PRICE\", \"AMT_ANNUITY\",\"AMT_INCOME_TOTAL\"]\n",
    "df_combinado = crear_logaritmos(df_combinado, var_logaritmicas, replace = True)\n",
    "\n",
    "# convertir dias negativos a meses\n",
    "variables_dias_negativos = [\"DAYS_BIRTH\", \"DAYS_EMPLOYED\", \"DAYS_LAST_PHONE_CHANGE\"]\n",
    "df_combinado = convertir_dias(df_combinado, variables_dias_negativos, divisor= 12,  redondear=True, reemplazar=False)"
   ]
  },
  {
   "cell_type": "code",
   "execution_count": 96,
   "id": "eba6019e",
   "metadata": {},
   "outputs": [
    {
     "data": {
      "text/html": [
       "<div><style>\n",
       ".dataframe > thead > tr,\n",
       ".dataframe > tbody > tr {\n",
       "  text-align: right;\n",
       "  white-space: pre-wrap;\n",
       "}\n",
       "</style>\n",
       "<small>shape: (356_255, 70)</small><table border=\"1\" class=\"dataframe\"><thead><tr><th>SK_ID_CURR</th><th>NAME_CONTRACT_TYPE</th><th>CODE_GENDER</th><th>FLAG_OWN_CAR</th><th>FLAG_OWN_REALTY</th><th>CNT_CHILDREN</th><th>AMT_INCOME_TOTAL</th><th>AMT_CREDIT</th><th>AMT_ANNUITY</th><th>AMT_GOODS_PRICE</th><th>NAME_INCOME_TYPE</th><th>NAME_EDUCATION_TYPE</th><th>NAME_FAMILY_STATUS</th><th>NAME_HOUSING_TYPE</th><th>REGION_POPULATION_RELATIVE</th><th>DAYS_BIRTH</th><th>DAYS_EMPLOYED</th><th>OWN_CAR_AGE</th><th>FLAG_MOBIL</th><th>FLAG_WORK_PHONE</th><th>FLAG_CONT_MOBILE</th><th>FLAG_EMAIL</th><th>OCCUPATION_TYPE</th><th>REGION_RATING_CLIENT</th><th>REGION_RATING_CLIENT_W_CITY</th><th>REG_REGION_NOT_LIVE_REGION</th><th>REG_REGION_NOT_WORK_REGION</th><th>LIVE_REGION_NOT_WORK_REGION</th><th>REG_CITY_NOT_LIVE_CITY</th><th>REG_CITY_NOT_WORK_CITY</th><th>LIVE_CITY_NOT_WORK_CITY</th><th>ORGANIZATION_TYPE</th><th>EXT_SOURCE_1</th><th>EXT_SOURCE_2</th><th>EXT_SOURCE_3</th><th>APARTMENTS_AVG</th><th>BASEMENTAREA_AVG</th><th>YEARS_BEGINEXPLUATATION_AVG</th><th>YEARS_BUILD_AVG</th><th>COMMONAREA_AVG</th><th>ELEVATORS_AVG</th><th>ENTRANCES_AVG</th><th>FLOORSMAX_AVG</th><th>FLOORSMIN_AVG</th><th>LANDAREA_AVG</th><th>LIVINGAPARTMENTS_AVG</th><th>LIVINGAREA_AVG</th><th>NONLIVINGAPARTMENTS_AVG</th><th>NONLIVINGAREA_AVG</th><th>YEARS_BUILD_MODE</th><th>FONDKAPREMONT_MODE</th><th>HOUSETYPE_MODE</th><th>WALLSMATERIAL_MODE</th><th>EMERGENCYSTATE_MODE</th><th>OBS_30_CNT_SOCIAL_CIRCLE</th><th>DEF_30_CNT_SOCIAL_CIRCLE</th><th>OBS_60_CNT_SOCIAL_CIRCLE</th><th>DEF_60_CNT_SOCIAL_CIRCLE</th><th>DAYS_LAST_PHONE_CHANGE</th><th>AMT_REQ_CREDIT_BUREAU_HOUR</th><th>AMT_REQ_CREDIT_BUREAU_DAY</th><th>AMT_REQ_CREDIT_BUREAU_WEEK</th><th>AMT_REQ_CREDIT_BUREAU_MON</th><th>AMT_REQ_CREDIT_BUREAU_QRT</th><th>AMT_REQ_CREDIT_BUREAU_YEAR</th><th>INGRESO_POR_PERSONA</th><th>PORCENTAJE_DOCUMENTACION_ENTREGADA</th><th>CONVERTIDO_DAYS_BIRTH</th><th>CONVERTIDO_DAYS_EMPLOYED</th><th>CONVERTIDO_DAYS_LAST_PHONE_CHANGE</th></tr><tr><td>i64</td><td>str</td><td>str</td><td>str</td><td>str</td><td>i64</td><td>f64</td><td>f64</td><td>f64</td><td>f64</td><td>str</td><td>str</td><td>str</td><td>str</td><td>f64</td><td>i64</td><td>i64</td><td>f64</td><td>i64</td><td>i64</td><td>i64</td><td>i64</td><td>str</td><td>i64</td><td>i64</td><td>i64</td><td>i64</td><td>i64</td><td>i64</td><td>i64</td><td>i64</td><td>str</td><td>f64</td><td>f64</td><td>f64</td><td>f64</td><td>f64</td><td>f64</td><td>f64</td><td>f64</td><td>f64</td><td>f64</td><td>f64</td><td>f64</td><td>f64</td><td>f64</td><td>f64</td><td>f64</td><td>f64</td><td>f64</td><td>str</td><td>str</td><td>str</td><td>str</td><td>f64</td><td>f64</td><td>f64</td><td>f64</td><td>f64</td><td>f64</td><td>f64</td><td>f64</td><td>f64</td><td>f64</td><td>f64</td><td>f64</td><td>f64</td><td>f64</td><td>f64</td><td>f64</td></tr></thead><tbody><tr><td>100002</td><td>&quot;Cash loans&quot;</td><td>&quot;M&quot;</td><td>&quot;N&quot;</td><td>&quot;Y&quot;</td><td>0</td><td>1.275814</td><td>1.290061</td><td>1.226202</td><td>1.287133</td><td>&quot;Working&quot;</td><td>&quot;Secondary / secondary special&quot;</td><td>&quot;Single / not married&quot;</td><td>&quot;House / apartment&quot;</td><td>0.018801</td><td>-9461</td><td>-637</td><td>null</td><td>1</td><td>0</td><td>1</td><td>0</td><td>&quot;Laborers&quot;</td><td>2</td><td>2</td><td>0</td><td>0</td><td>0</td><td>0</td><td>0</td><td>0</td><td>&quot;Business Entity Type 3&quot;</td><td>0.083037</td><td>0.262949</td><td>0.139376</td><td>0.0247</td><td>0.0369</td><td>0.9722</td><td>0.6192</td><td>0.0143</td><td>0.0</td><td>0.069</td><td>0.0833</td><td>0.125</td><td>0.0369</td><td>0.0202</td><td>0.019</td><td>0.0</td><td>0.0</td><td>0.6341</td><td>&quot;reg oper account&quot;</td><td>&quot;block of flats&quot;</td><td>&quot;Stone, brick&quot;</td><td>&quot;No&quot;</td><td>2.0</td><td>2.0</td><td>2.0</td><td>2.0</td><td>-1134.0</td><td>0.0</td><td>0.0</td><td>0.0</td><td>0.0</td><td>0.0</td><td>1.0</td><td>202500.0</td><td>0.05</td><td>788.0</td><td>53.0</td><td>94.0</td></tr><tr><td>100003</td><td>&quot;Cash loans&quot;</td><td>&quot;F&quot;</td><td>&quot;N&quot;</td><td>&quot;N&quot;</td><td>0</td><td>1.281808</td><td>1.311812</td><td>1.235721</td><td>1.309376</td><td>&quot;State servant&quot;</td><td>&quot;Higher education&quot;</td><td>&quot;Married&quot;</td><td>&quot;House / apartment&quot;</td><td>0.003541</td><td>-16765</td><td>-1188</td><td>null</td><td>1</td><td>0</td><td>1</td><td>0</td><td>&quot;Core staff&quot;</td><td>1</td><td>1</td><td>0</td><td>0</td><td>0</td><td>0</td><td>0</td><td>0</td><td>&quot;School&quot;</td><td>0.311267</td><td>0.622246</td><td>null</td><td>0.0959</td><td>0.0529</td><td>0.9851</td><td>0.796</td><td>0.0605</td><td>0.08</td><td>0.0345</td><td>0.2917</td><td>0.3333</td><td>0.013</td><td>0.0773</td><td>0.0549</td><td>0.0039</td><td>0.0098</td><td>0.804</td><td>&quot;reg oper account&quot;</td><td>&quot;block of flats&quot;</td><td>&quot;Block&quot;</td><td>&quot;No&quot;</td><td>1.0</td><td>0.0</td><td>1.0</td><td>0.0</td><td>-828.0</td><td>0.0</td><td>0.0</td><td>0.0</td><td>0.0</td><td>0.0</td><td>0.0</td><td>135000.0</td><td>0.05</td><td>1397.0</td><td>99.0</td><td>69.0</td></tr><tr><td>100004</td><td>&quot;Revolving loans&quot;</td><td>&quot;M&quot;</td><td>&quot;Y&quot;</td><td>&quot;Y&quot;</td><td>0</td><td>1.25129</td><td>1.267078</td><td>1.189111</td><td>1.267078</td><td>&quot;Working&quot;</td><td>&quot;Secondary / secondary special&quot;</td><td>&quot;Single / not married&quot;</td><td>&quot;House / apartment&quot;</td><td>0.010032</td><td>-19046</td><td>-225</td><td>26.0</td><td>1</td><td>1</td><td>1</td><td>0</td><td>&quot;Laborers&quot;</td><td>2</td><td>2</td><td>0</td><td>0</td><td>0</td><td>0</td><td>0</td><td>0</td><td>&quot;Government&quot;</td><td>null</td><td>0.555912</td><td>0.729567</td><td>null</td><td>null</td><td>null</td><td>null</td><td>null</td><td>null</td><td>null</td><td>null</td><td>null</td><td>null</td><td>null</td><td>null</td><td>null</td><td>null</td><td>null</td><td>null</td><td>null</td><td>null</td><td>null</td><td>0.0</td><td>0.0</td><td>0.0</td><td>0.0</td><td>-815.0</td><td>0.0</td><td>0.0</td><td>0.0</td><td>0.0</td><td>0.0</td><td>0.0</td><td>67500.0</td><td>0.0</td><td>1587.0</td><td>19.0</td><td>68.0</td></tr><tr><td>100006</td><td>&quot;Cash loans&quot;</td><td>&quot;F&quot;</td><td>&quot;N&quot;</td><td>&quot;Y&quot;</td><td>0</td><td>1.267078</td><td>1.284803</td><td>1.231005</td><td>1.283757</td><td>&quot;Working&quot;</td><td>&quot;Secondary / secondary special&quot;</td><td>&quot;Civil marriage&quot;</td><td>&quot;House / apartment&quot;</td><td>0.008019</td><td>-19005</td><td>-3039</td><td>null</td><td>1</td><td>0</td><td>1</td><td>0</td><td>&quot;Laborers&quot;</td><td>2</td><td>2</td><td>0</td><td>0</td><td>0</td><td>0</td><td>0</td><td>0</td><td>&quot;Business Entity Type 3&quot;</td><td>null</td><td>0.650442</td><td>null</td><td>null</td><td>null</td><td>null</td><td>null</td><td>null</td><td>null</td><td>null</td><td>null</td><td>null</td><td>null</td><td>null</td><td>null</td><td>null</td><td>null</td><td>null</td><td>null</td><td>null</td><td>null</td><td>null</td><td>2.0</td><td>0.0</td><td>2.0</td><td>0.0</td><td>-617.0</td><td>null</td><td>null</td><td>null</td><td>null</td><td>null</td><td>null</td><td>67500.0</td><td>0.05</td><td>1584.0</td><td>253.0</td><td>51.0</td></tr><tr><td>100007</td><td>&quot;Cash loans&quot;</td><td>&quot;M&quot;</td><td>&quot;N&quot;</td><td>&quot;Y&quot;</td><td>0</td><td>1.26475</td><td>1.294611</td><td>1.222961</td><td>1.294611</td><td>&quot;Working&quot;</td><td>&quot;Secondary / secondary special&quot;</td><td>&quot;Single / not married&quot;</td><td>&quot;House / apartment&quot;</td><td>0.028663</td><td>-19932</td><td>-3038</td><td>null</td><td>1</td><td>0</td><td>1</td><td>0</td><td>&quot;Core staff&quot;</td><td>2</td><td>2</td><td>0</td><td>0</td><td>0</td><td>0</td><td>1</td><td>1</td><td>&quot;Religion&quot;</td><td>null</td><td>0.322738</td><td>null</td><td>null</td><td>null</td><td>null</td><td>null</td><td>null</td><td>null</td><td>null</td><td>null</td><td>null</td><td>null</td><td>null</td><td>null</td><td>null</td><td>null</td><td>null</td><td>null</td><td>null</td><td>null</td><td>null</td><td>0.0</td><td>0.0</td><td>0.0</td><td>0.0</td><td>-1106.0</td><td>0.0</td><td>0.0</td><td>0.0</td><td>0.0</td><td>0.0</td><td>0.0</td><td>121500.0</td><td>0.05</td><td>1661.0</td><td>253.0</td><td>92.0</td></tr><tr><td>&hellip;</td><td>&hellip;</td><td>&hellip;</td><td>&hellip;</td><td>&hellip;</td><td>&hellip;</td><td>&hellip;</td><td>&hellip;</td><td>&hellip;</td><td>&hellip;</td><td>&hellip;</td><td>&hellip;</td><td>&hellip;</td><td>&hellip;</td><td>&hellip;</td><td>&hellip;</td><td>&hellip;</td><td>&hellip;</td><td>&hellip;</td><td>&hellip;</td><td>&hellip;</td><td>&hellip;</td><td>&hellip;</td><td>&hellip;</td><td>&hellip;</td><td>&hellip;</td><td>&hellip;</td><td>&hellip;</td><td>&hellip;</td><td>&hellip;</td><td>&hellip;</td><td>&hellip;</td><td>&hellip;</td><td>&hellip;</td><td>&hellip;</td><td>&hellip;</td><td>&hellip;</td><td>&hellip;</td><td>&hellip;</td><td>&hellip;</td><td>&hellip;</td><td>&hellip;</td><td>&hellip;</td><td>&hellip;</td><td>&hellip;</td><td>&hellip;</td><td>&hellip;</td><td>&hellip;</td><td>&hellip;</td><td>&hellip;</td><td>&hellip;</td><td>&hellip;</td><td>&hellip;</td><td>&hellip;</td><td>&hellip;</td><td>&hellip;</td><td>&hellip;</td><td>&hellip;</td><td>&hellip;</td><td>&hellip;</td><td>&hellip;</td><td>&hellip;</td><td>&hellip;</td><td>&hellip;</td><td>&hellip;</td><td>&hellip;</td><td>&hellip;</td><td>&hellip;</td><td>&hellip;</td><td>&hellip;</td></tr><tr><td>456221</td><td>&quot;Cash loans&quot;</td><td>&quot;F&quot;</td><td>&quot;N&quot;</td><td>&quot;Y&quot;</td><td>0</td><td>1.26475</td><td>1.290349</td><td>1.216877</td><td>1.281808</td><td>&quot;Working&quot;</td><td>&quot;Secondary / secondary special&quot;</td><td>&quot;Widow&quot;</td><td>&quot;House / apartment&quot;</td><td>0.002042</td><td>-19970</td><td>-5169</td><td>null</td><td>1</td><td>1</td><td>1</td><td>0</td><td>null</td><td>3</td><td>3</td><td>0</td><td>0</td><td>0</td><td>0</td><td>0</td><td>0</td><td>&quot;Other&quot;</td><td>null</td><td>0.648575</td><td>0.643026</td><td>null</td><td>null</td><td>null</td><td>null</td><td>null</td><td>null</td><td>null</td><td>null</td><td>null</td><td>null</td><td>null</td><td>null</td><td>null</td><td>null</td><td>null</td><td>null</td><td>null</td><td>null</td><td>null</td><td>1.0</td><td>0.0</td><td>1.0</td><td>0.0</td><td>-684.0</td><td>0.0</td><td>0.0</td><td>0.0</td><td>0.0</td><td>0.0</td><td>1.0</td><td>121500.0</td><td>0.05</td><td>1664.0</td><td>431.0</td><td>57.0</td></tr><tr><td>456222</td><td>&quot;Cash loans&quot;</td><td>&quot;F&quot;</td><td>&quot;N&quot;</td><td>&quot;N&quot;</td><td>2</td><td>1.270441</td><td>1.298323</td><td>1.232863</td><td>1.293918</td><td>&quot;Commercial associate&quot;</td><td>&quot;Secondary / secondary special&quot;</td><td>&quot;Married&quot;</td><td>&quot;House / apartment&quot;</td><td>0.035792</td><td>-11186</td><td>-1149</td><td>null</td><td>1</td><td>0</td><td>1</td><td>0</td><td>&quot;Sales staff&quot;</td><td>2</td><td>2</td><td>0</td><td>0</td><td>0</td><td>0</td><td>1</td><td>1</td><td>&quot;Trade: type 7&quot;</td><td>null</td><td>0.684596</td><td>null</td><td>null</td><td>null</td><td>null</td><td>null</td><td>null</td><td>null</td><td>null</td><td>null</td><td>null</td><td>null</td><td>null</td><td>null</td><td>null</td><td>null</td><td>null</td><td>null</td><td>null</td><td>null</td><td>null</td><td>2.0</td><td>0.0</td><td>2.0</td><td>0.0</td><td>0.0</td><td>null</td><td>null</td><td>null</td><td>null</td><td>null</td><td>null</td><td>39375.0</td><td>0.05</td><td>932.0</td><td>96.0</td><td>-0.0</td></tr><tr><td>456223</td><td>&quot;Cash loans&quot;</td><td>&quot;F&quot;</td><td>&quot;Y&quot;</td><td>&quot;Y&quot;</td><td>1</td><td>1.275814</td><td>1.284952</td><td>1.233881</td><td>1.284952</td><td>&quot;Commercial associate&quot;</td><td>&quot;Secondary / secondary special&quot;</td><td>&quot;Married&quot;</td><td>&quot;House / apartment&quot;</td><td>0.026392</td><td>-15922</td><td>-3037</td><td>4.0</td><td>1</td><td>0</td><td>1</td><td>0</td><td>null</td><td>2</td><td>2</td><td>0</td><td>0</td><td>0</td><td>0</td><td>0</td><td>0</td><td>&quot;Business Entity Type 3&quot;</td><td>0.733503</td><td>0.63277</td><td>0.283712</td><td>0.1113</td><td>0.1364</td><td>0.9955</td><td>null</td><td>null</td><td>0.16</td><td>0.1379</td><td>0.3333</td><td>null</td><td>null</td><td>null</td><td>0.1383</td><td>null</td><td>0.0542</td><td>null</td><td>null</td><td>&quot;block of flats&quot;</td><td>&quot;Stone, brick&quot;</td><td>&quot;No&quot;</td><td>0.0</td><td>0.0</td><td>0.0</td><td>0.0</td><td>-838.0</td><td>0.0</td><td>0.0</td><td>0.0</td><td>0.0</td><td>3.0</td><td>1.0</td><td>67500.0</td><td>0.05</td><td>1327.0</td><td>253.0</td><td>70.0</td></tr><tr><td>456224</td><td>&quot;Cash loans&quot;</td><td>&quot;M&quot;</td><td>&quot;N&quot;</td><td>&quot;N&quot;</td><td>0</td><td>1.278029</td><td>1.292058</td><td>1.226655</td><td>1.292058</td><td>&quot;Commercial associate&quot;</td><td>&quot;Higher education&quot;</td><td>&quot;Married&quot;</td><td>&quot;House / apartment&quot;</td><td>0.01885</td><td>-13968</td><td>-2731</td><td>null</td><td>1</td><td>1</td><td>1</td><td>0</td><td>&quot;Managers&quot;</td><td>2</td><td>2</td><td>0</td><td>1</td><td>1</td><td>0</td><td>1</td><td>1</td><td>&quot;Self-employed&quot;</td><td>0.37309</td><td>0.445701</td><td>0.595456</td><td>0.1629</td><td>0.0723</td><td>0.9896</td><td>null</td><td>null</td><td>0.16</td><td>0.069</td><td>0.625</td><td>null</td><td>null</td><td>null</td><td>0.1563</td><td>null</td><td>0.149</td><td>null</td><td>null</td><td>&quot;block of flats&quot;</td><td>&quot;Panel&quot;</td><td>&quot;No&quot;</td><td>0.0</td><td>0.0</td><td>0.0</td><td>0.0</td><td>-2308.0</td><td>0.0</td><td>0.0</td><td>0.0</td><td>0.0</td><td>0.0</td><td>2.0</td><td>112500.0</td><td>0.05</td><td>1164.0</td><td>228.0</td><td>192.0</td></tr><tr><td>456250</td><td>&quot;Cash loans&quot;</td><td>&quot;F&quot;</td><td>&quot;Y&quot;</td><td>&quot;N&quot;</td><td>0</td><td>1.267078</td><td>1.284808</td><td>1.226212</td><td>1.281808</td><td>&quot;Working&quot;</td><td>&quot;Secondary / secondary special&quot;</td><td>&quot;Married&quot;</td><td>&quot;House / apartment&quot;</td><td>0.006629</td><td>-13962</td><td>-633</td><td>22.0</td><td>1</td><td>1</td><td>1</td><td>0</td><td>&quot;Core staff&quot;</td><td>2</td><td>2</td><td>0</td><td>0</td><td>0</td><td>0</td><td>0</td><td>0</td><td>&quot;Government&quot;</td><td>null</td><td>0.456541</td><td>0.272134</td><td>null</td><td>null</td><td>null</td><td>null</td><td>null</td><td>null</td><td>null</td><td>null</td><td>null</td><td>null</td><td>null</td><td>null</td><td>null</td><td>null</td><td>null</td><td>null</td><td>null</td><td>null</td><td>null</td><td>0.0</td><td>0.0</td><td>0.0</td><td>0.0</td><td>-327.0</td><td>0.0</td><td>0.0</td><td>0.0</td><td>0.0</td><td>1.0</td><td>4.0</td><td>67500.0</td><td>0.05</td><td>1164.0</td><td>53.0</td><td>27.0</td></tr></tbody></table></div>"
      ],
      "text/plain": [
       "shape: (356_255, 70)\n",
       "┌───────────┬───────────┬───────────┬───────────┬───┬───────────┬───────────┬───────────┬──────────┐\n",
       "│ SK_ID_CUR ┆ NAME_CONT ┆ CODE_GEND ┆ FLAG_OWN_ ┆ … ┆ PORCENTAJ ┆ CONVERTID ┆ CONVERTID ┆ CONVERTI │\n",
       "│ R         ┆ RACT_TYPE ┆ ER        ┆ CAR       ┆   ┆ E_DOCUMEN ┆ O_DAYS_BI ┆ O_DAYS_EM ┆ DO_DAYS_ │\n",
       "│ ---       ┆ ---       ┆ ---       ┆ ---       ┆   ┆ TACION_EN ┆ RTH       ┆ PLOYED    ┆ LAST_PHO │\n",
       "│ i64       ┆ str       ┆ str       ┆ str       ┆   ┆ TRE…      ┆ ---       ┆ ---       ┆ NE_CHA…  │\n",
       "│           ┆           ┆           ┆           ┆   ┆ ---       ┆ f64       ┆ f64       ┆ ---      │\n",
       "│           ┆           ┆           ┆           ┆   ┆ f64       ┆           ┆           ┆ f64      │\n",
       "╞═══════════╪═══════════╪═══════════╪═══════════╪═══╪═══════════╪═══════════╪═══════════╪══════════╡\n",
       "│ 100002    ┆ Cash      ┆ M         ┆ N         ┆ … ┆ 0.05      ┆ 788.0     ┆ 53.0      ┆ 94.0     │\n",
       "│           ┆ loans     ┆           ┆           ┆   ┆           ┆           ┆           ┆          │\n",
       "│ 100003    ┆ Cash      ┆ F         ┆ N         ┆ … ┆ 0.05      ┆ 1397.0    ┆ 99.0      ┆ 69.0     │\n",
       "│           ┆ loans     ┆           ┆           ┆   ┆           ┆           ┆           ┆          │\n",
       "│ 100004    ┆ Revolving ┆ M         ┆ Y         ┆ … ┆ 0.0       ┆ 1587.0    ┆ 19.0      ┆ 68.0     │\n",
       "│           ┆ loans     ┆           ┆           ┆   ┆           ┆           ┆           ┆          │\n",
       "│ 100006    ┆ Cash      ┆ F         ┆ N         ┆ … ┆ 0.05      ┆ 1584.0    ┆ 253.0     ┆ 51.0     │\n",
       "│           ┆ loans     ┆           ┆           ┆   ┆           ┆           ┆           ┆          │\n",
       "│ 100007    ┆ Cash      ┆ M         ┆ N         ┆ … ┆ 0.05      ┆ 1661.0    ┆ 253.0     ┆ 92.0     │\n",
       "│           ┆ loans     ┆           ┆           ┆   ┆           ┆           ┆           ┆          │\n",
       "│ …         ┆ …         ┆ …         ┆ …         ┆ … ┆ …         ┆ …         ┆ …         ┆ …        │\n",
       "│ 456221    ┆ Cash      ┆ F         ┆ N         ┆ … ┆ 0.05      ┆ 1664.0    ┆ 431.0     ┆ 57.0     │\n",
       "│           ┆ loans     ┆           ┆           ┆   ┆           ┆           ┆           ┆          │\n",
       "│ 456222    ┆ Cash      ┆ F         ┆ N         ┆ … ┆ 0.05      ┆ 932.0     ┆ 96.0      ┆ -0.0     │\n",
       "│           ┆ loans     ┆           ┆           ┆   ┆           ┆           ┆           ┆          │\n",
       "│ 456223    ┆ Cash      ┆ F         ┆ Y         ┆ … ┆ 0.05      ┆ 1327.0    ┆ 253.0     ┆ 70.0     │\n",
       "│           ┆ loans     ┆           ┆           ┆   ┆           ┆           ┆           ┆          │\n",
       "│ 456224    ┆ Cash      ┆ M         ┆ N         ┆ … ┆ 0.05      ┆ 1164.0    ┆ 228.0     ┆ 192.0    │\n",
       "│           ┆ loans     ┆           ┆           ┆   ┆           ┆           ┆           ┆          │\n",
       "│ 456250    ┆ Cash      ┆ F         ┆ Y         ┆ … ┆ 0.05      ┆ 1164.0    ┆ 53.0      ┆ 27.0     │\n",
       "│           ┆ loans     ┆           ┆           ┆   ┆           ┆           ┆           ┆          │\n",
       "└───────────┴───────────┴───────────┴───────────┴───┴───────────┴───────────┴───────────┴──────────┘"
      ]
     },
     "execution_count": 96,
     "metadata": {},
     "output_type": "execute_result"
    }
   ],
   "source": [
    "df_combinado"
   ]
  }
 ],
 "metadata": {
  "kernelspec": {
   "display_name": ".venv",
   "language": "python",
   "name": "python3"
  },
  "language_info": {
   "codemirror_mode": {
    "name": "ipython",
    "version": 3
   },
   "file_extension": ".py",
   "mimetype": "text/x-python",
   "name": "python",
   "nbconvert_exporter": "python",
   "pygments_lexer": "ipython3",
   "version": "3.10.11"
  }
 },
 "nbformat": 4,
 "nbformat_minor": 5
}
